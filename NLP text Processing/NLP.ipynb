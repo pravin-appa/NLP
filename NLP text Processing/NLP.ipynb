{
  "nbformat": 4,
  "nbformat_minor": 0,
  "metadata": {
    "colab": {
      "provenance": []
    },
    "kernelspec": {
      "name": "python3",
      "display_name": "Python 3"
    },
    "language_info": {
      "name": "python"
    }
  },
  "cells": [
    {
      "cell_type": "code",
      "execution_count": null,
      "metadata": {
        "id": "Nw2EX1N3dZCS"
      },
      "outputs": [],
      "source": [
        "#installing nlp library\n",
        "!pip install nltk"
      ]
    },
    {
      "cell_type": "code",
      "source": [
        "paragraph = \"\"\"\n",
        "Rahul Rajiv Gandhi (Hindi pronunciation: [ˈraːɦʊl raːdʒiːʋ ˈɡaːndʱiː] ⓘ; born 19 June 1970) is an Indian politician. A member of the Indian National Congress (INC), he has served as the 12th Leader of the Opposition in Lok Sabha and as the member of the Lok Sabha for Rae Bareli, Uttar Pradesh, since June 2024.[c][d] He previously represented the constituency of Wayanad, Kerala, from 2019 to 2024, and Amethi, Uttar Pradesh, from 2004 to 2019. Gandhi served as the party president of the INC from December 2017 to July 2019 and is the chairperson of the Indian Youth Congress, the National Students Union of India, and a trustee of the Rajiv Gandhi Foundation and Rajiv Gandhi Charitable Trust. He is a member of the Nehru–Gandhi political family.\n",
        "\n",
        "Born in New Delhi, Gandhi spent his early childhood between Delhi and Dehradun and stayed away from the public sphere for much of his childhood and early youth. He received primary education in New Delhi and then attended the elite all-boys' boarding The Doon School in Dehradun. Due to security concerns, he was later home-schooled. Gandhi commenced his undergraduate degree at St. Stephen's College before moving to Harvard University. The following year, due to security threats following the assassination of his father, he moved to Rollins College in Florida, completing his degree in 1994. The next year, he obtained his M.Phil. from Cambridge. After completing his post-graduation, he initiated his professional career with the Monitor Group, a management consulting firm in London. Soon thereafter, he returned to India and founded Backops Services Private Ltd, a technology outsourcing firm based in Mumbai.\n",
        "\"\"\""
      ],
      "metadata": {
        "id": "XjRXOLNghiuS"
      },
      "execution_count": null,
      "outputs": []
    },
    {
      "cell_type": "code",
      "source": [
        "#import libraries\n",
        "\n",
        "import nltk\n",
        "from nltk.stem import PorterStemmer\n",
        "from nltk.corpus import stopwords\n",
        "from nltk.stem import WordNetLemmatizer"
      ],
      "metadata": {
        "id": "2qb6pKwZh6D2"
      },
      "execution_count": null,
      "outputs": []
    },
    {
      "cell_type": "code",
      "source": [
        "#Tokenizing\n",
        "nltk.download('punkt')\n",
        "sentence = nltk.sent_tokenize(paragraph)"
      ],
      "metadata": {
        "id": "O5idToV1iH4F"
      },
      "execution_count": null,
      "outputs": []
    },
    {
      "cell_type": "code",
      "source": [
        "sentence"
      ],
      "metadata": {
        "id": "rHAmWu96j4fk"
      },
      "execution_count": null,
      "outputs": []
    },
    {
      "cell_type": "code",
      "source": [
        "type(sentence), len(sentence)"
      ],
      "metadata": {
        "id": "5V7kvbx_kAC4"
      },
      "execution_count": null,
      "outputs": []
    },
    {
      "cell_type": "code",
      "source": [
        "#initializing and downloading necessary components\n",
        "nltk.download('stopwords')\n",
        "nltk.download('wordnet')\n",
        "\n",
        "lemmatizer = WordNetLemmatizer()\n",
        "stemmer = PorterStemmer()"
      ],
      "metadata": {
        "colab": {
          "base_uri": "https://localhost:8080/"
        },
        "id": "njPNz4jbsvY7",
        "outputId": "5b595fdf-8dea-4066-8106-e58af7aae87e"
      },
      "execution_count": 47,
      "outputs": [
        {
          "output_type": "stream",
          "name": "stderr",
          "text": [
            "[nltk_data] Downloading package stopwords to /root/nltk_data...\n",
            "[nltk_data]   Package stopwords is already up-to-date!\n",
            "[nltk_data] Downloading package wordnet to /root/nltk_data...\n",
            "[nltk_data]   Package wordnet is already up-to-date!\n"
          ]
        }
      ]
    },
    {
      "cell_type": "code",
      "source": [
        "import re\n",
        "\n",
        "corpus = []\n",
        "for i in range(len(sentence)):\n",
        "  review = re.sub('[^a-zA-Z]', ' ', sentence[i])\n",
        "  review = review.lower()\n",
        "  review = review.split()\n",
        "  review = [lemmatizer.lemmatize(word) for word in review if not word in set(stopwords.words('english'))]\n",
        "  review = \" \".join(review)\n",
        "  corpus.append(review)"
      ],
      "metadata": {
        "id": "EJoFPzPEkFHO"
      },
      "execution_count": 53,
      "outputs": []
    },
    {
      "cell_type": "code",
      "source": [
        "corpus"
      ],
      "metadata": {
        "colab": {
          "base_uri": "https://localhost:8080/"
        },
        "id": "YpQsEUkJlL3A",
        "outputId": "34fd5ba3-7ce7-4ad7-a508-711c87a9a8b2"
      },
      "execution_count": 54,
      "outputs": [
        {
          "output_type": "execute_result",
          "data": {
            "text/plain": [
              "['rahul rajiv gandhi hindi pronunciation ra l ra nd born june indian politician',\n",
              " 'member indian national congress inc served th leader opposition lok sabha member lok sabha rae bareli uttar pradesh since june',\n",
              " 'c previously represented constituency wayanad kerala amethi uttar pradesh',\n",
              " 'gandhi served party president inc december july chairperson indian youth congress national student union india trustee rajiv gandhi foundation rajiv gandhi charitable trust',\n",
              " 'member nehru gandhi political family',\n",
              " 'born new delhi gandhi spent early childhood delhi dehradun stayed away public sphere much childhood early youth',\n",
              " 'received primary education new delhi attended elite boy boarding doon school dehradun',\n",
              " 'due security concern later home schooled',\n",
              " 'gandhi commenced undergraduate degree st stephen college moving harvard university',\n",
              " 'following year due security threat following assassination father moved rollins college florida completing degree',\n",
              " 'next year obtained phil',\n",
              " 'cambridge',\n",
              " 'completing post graduation initiated professional career monitor group management consulting firm london',\n",
              " 'soon thereafter returned india founded backops service private ltd technology outsourcing firm based mumbai']"
            ]
          },
          "metadata": {},
          "execution_count": 54
        }
      ]
    },
    {
      "cell_type": "code",
      "source": [
        "#Bag of words\n",
        "\n",
        "from sklearn.feature_extraction.text import CountVectorizer\n",
        "\n",
        "cv = CountVectorizer()"
      ],
      "metadata": {
        "id": "yQsQ6u8TneH8"
      },
      "execution_count": 55,
      "outputs": []
    },
    {
      "cell_type": "code",
      "source": [
        "voc = cv.fit_transform(corpus)"
      ],
      "metadata": {
        "id": "XZ2reQwIvXb5"
      },
      "execution_count": 57,
      "outputs": []
    },
    {
      "cell_type": "code",
      "source": [
        "cv.vocabulary_"
      ],
      "metadata": {
        "colab": {
          "base_uri": "https://localhost:8080/"
        },
        "id": "TTivBzuYviy_",
        "outputId": "812a339f-3fc8-41ef-ec61-9593e448eff3"
      },
      "execution_count": 62,
      "outputs": [
        {
          "output_type": "execute_result",
          "data": {
            "text/plain": [
              "{'rahul': 86,\n",
              " 'rajiv': 87,\n",
              " 'gandhi': 38,\n",
              " 'hindi': 42,\n",
              " 'pronunciation': 82,\n",
              " 'ra': 84,\n",
              " 'nd': 64,\n",
              " 'born': 8,\n",
              " 'june': 49,\n",
              " 'indian': 46,\n",
              " 'politician': 74,\n",
              " 'member': 57,\n",
              " 'national': 63,\n",
              " 'congress': 19,\n",
              " 'inc': 44,\n",
              " 'served': 96,\n",
              " 'th': 107,\n",
              " 'leader': 52,\n",
              " 'opposition': 69,\n",
              " 'lok': 53,\n",
              " 'sabha': 92,\n",
              " 'rae': 85,\n",
              " 'bareli': 5,\n",
              " 'uttar': 115,\n",
              " 'pradesh': 76,\n",
              " 'since': 98,\n",
              " 'previously': 78,\n",
              " 'represented': 89,\n",
              " 'constituency': 20,\n",
              " 'wayanad': 116,\n",
              " 'kerala': 50,\n",
              " 'amethi': 0,\n",
              " 'party': 71,\n",
              " 'president': 77,\n",
              " 'december': 22,\n",
              " 'july': 48,\n",
              " 'chairperson': 12,\n",
              " 'youth': 118,\n",
              " 'student': 105,\n",
              " 'union': 113,\n",
              " 'india': 45,\n",
              " 'trustee': 111,\n",
              " 'foundation': 36,\n",
              " 'charitable': 13,\n",
              " 'trust': 110,\n",
              " 'nehru': 65,\n",
              " 'political': 73,\n",
              " 'family': 31,\n",
              " 'new': 66,\n",
              " 'delhi': 25,\n",
              " 'spent': 100,\n",
              " 'early': 28,\n",
              " 'childhood': 14,\n",
              " 'dehradun': 24,\n",
              " 'stayed': 103,\n",
              " 'away': 3,\n",
              " 'public': 83,\n",
              " 'sphere': 101,\n",
              " 'much': 61,\n",
              " 'received': 88,\n",
              " 'primary': 79,\n",
              " 'education': 29,\n",
              " 'attended': 2,\n",
              " 'elite': 30,\n",
              " 'boy': 9,\n",
              " 'boarding': 7,\n",
              " 'doon': 26,\n",
              " 'school': 93,\n",
              " 'due': 27,\n",
              " 'security': 95,\n",
              " 'concern': 18,\n",
              " 'later': 51,\n",
              " 'home': 43,\n",
              " 'schooled': 94,\n",
              " 'commenced': 16,\n",
              " 'undergraduate': 112,\n",
              " 'degree': 23,\n",
              " 'st': 102,\n",
              " 'stephen': 104,\n",
              " 'college': 15,\n",
              " 'moving': 60,\n",
              " 'harvard': 41,\n",
              " 'university': 114,\n",
              " 'following': 35,\n",
              " 'year': 117,\n",
              " 'threat': 109,\n",
              " 'assassination': 1,\n",
              " 'father': 32,\n",
              " 'moved': 59,\n",
              " 'rollins': 91,\n",
              " 'florida': 34,\n",
              " 'completing': 17,\n",
              " 'next': 67,\n",
              " 'obtained': 68,\n",
              " 'phil': 72,\n",
              " 'cambridge': 10,\n",
              " 'post': 75,\n",
              " 'graduation': 39,\n",
              " 'initiated': 47,\n",
              " 'professional': 81,\n",
              " 'career': 11,\n",
              " 'monitor': 58,\n",
              " 'group': 40,\n",
              " 'management': 56,\n",
              " 'consulting': 21,\n",
              " 'firm': 33,\n",
              " 'london': 54,\n",
              " 'soon': 99,\n",
              " 'thereafter': 108,\n",
              " 'returned': 90,\n",
              " 'founded': 37,\n",
              " 'backops': 4,\n",
              " 'service': 97,\n",
              " 'private': 80,\n",
              " 'ltd': 55,\n",
              " 'technology': 106,\n",
              " 'outsourcing': 70,\n",
              " 'based': 6,\n",
              " 'mumbai': 62}"
            ]
          },
          "metadata": {},
          "execution_count": 62
        }
      ]
    },
    {
      "cell_type": "code",
      "source": [
        "voc[0].toarray()"
      ],
      "metadata": {
        "colab": {
          "base_uri": "https://localhost:8080/"
        },
        "id": "dawfOp3XvsHZ",
        "outputId": "1b87a8db-6d12-4523-ece4-e4fc473391b4"
      },
      "execution_count": 65,
      "outputs": [
        {
          "output_type": "execute_result",
          "data": {
            "text/plain": [
              "array([[0, 0, 0, 0, 0, 0, 0, 0, 1, 0, 0, 0, 0, 0, 0, 0, 0, 0, 0, 0, 0, 0,\n",
              "        0, 0, 0, 0, 0, 0, 0, 0, 0, 0, 0, 0, 0, 0, 0, 0, 1, 0, 0, 0, 1, 0,\n",
              "        0, 0, 1, 0, 0, 1, 0, 0, 0, 0, 0, 0, 0, 0, 0, 0, 0, 0, 0, 0, 1, 0,\n",
              "        0, 0, 0, 0, 0, 0, 0, 0, 1, 0, 0, 0, 0, 0, 0, 0, 1, 0, 2, 0, 1, 1,\n",
              "        0, 0, 0, 0, 0, 0, 0, 0, 0, 0, 0, 0, 0, 0, 0, 0, 0, 0, 0, 0, 0, 0,\n",
              "        0, 0, 0, 0, 0, 0, 0, 0, 0]])"
            ]
          },
          "metadata": {},
          "execution_count": 65
        }
      ]
    },
    {
      "cell_type": "code",
      "source": [
        "corpus[0]"
      ],
      "metadata": {
        "colab": {
          "base_uri": "https://localhost:8080/",
          "height": 36
        },
        "id": "e6q0V-AlwBWH",
        "outputId": "4b4f3ad1-f3c7-4f22-fbe6-896d92ccc292"
      },
      "execution_count": 66,
      "outputs": [
        {
          "output_type": "execute_result",
          "data": {
            "text/plain": [
              "'rahul rajiv gandhi hindi pronunciation ra l ra nd born june indian politician'"
            ],
            "application/vnd.google.colaboratory.intrinsic+json": {
              "type": "string"
            }
          },
          "metadata": {},
          "execution_count": 66
        }
      ]
    },
    {
      "cell_type": "markdown",
      "source": [
        "**TFIDF Practice**"
      ],
      "metadata": {
        "id": "71rhhAZOUinh"
      }
    },
    {
      "cell_type": "code",
      "source": [
        "from sklearn.feature_extraction.text import TfidfVectorizer\n",
        "\n",
        "tf = TfidfVectorizer(ngram_range=(3,3))"
      ],
      "metadata": {
        "id": "OK8AiCNpUgYZ"
      },
      "execution_count": 67,
      "outputs": []
    },
    {
      "cell_type": "code",
      "source": [
        "ch = tf.fit_transform(corpus)"
      ],
      "metadata": {
        "id": "n3eINIVgU2Gc"
      },
      "execution_count": 68,
      "outputs": []
    },
    {
      "cell_type": "code",
      "source": [
        "ch[0].toarray()"
      ],
      "metadata": {
        "colab": {
          "base_uri": "https://localhost:8080/"
        },
        "id": "B2x-HytKVCFi",
        "outputId": "92d622c8-f3d7-4fdd-def2-cb0af696aee7"
      },
      "execution_count": 70,
      "outputs": [
        {
          "output_type": "execute_result",
          "data": {
            "text/plain": [
              "array([[0.        , 0.        , 0.        , 0.        , 0.        ,\n",
              "        0.        , 0.        , 0.31622777, 0.        , 0.        ,\n",
              "        0.        , 0.        , 0.        , 0.        , 0.        ,\n",
              "        0.        , 0.        , 0.        , 0.        , 0.        ,\n",
              "        0.        , 0.        , 0.        , 0.        , 0.        ,\n",
              "        0.        , 0.        , 0.        , 0.        , 0.        ,\n",
              "        0.        , 0.        , 0.        , 0.        , 0.        ,\n",
              "        0.        , 0.        , 0.        , 0.        , 0.        ,\n",
              "        0.        , 0.        , 0.        , 0.        , 0.        ,\n",
              "        0.31622777, 0.        , 0.        , 0.        , 0.        ,\n",
              "        0.        , 0.31622777, 0.        , 0.        , 0.        ,\n",
              "        0.        , 0.        , 0.        , 0.        , 0.        ,\n",
              "        0.31622777, 0.        , 0.        , 0.        , 0.        ,\n",
              "        0.        , 0.        , 0.        , 0.        , 0.        ,\n",
              "        0.        , 0.        , 0.        , 0.        , 0.        ,\n",
              "        0.        , 0.        , 0.31622777, 0.        , 0.        ,\n",
              "        0.        , 0.        , 0.        , 0.        , 0.        ,\n",
              "        0.        , 0.        , 0.        , 0.        , 0.        ,\n",
              "        0.        , 0.        , 0.31622777, 0.        , 0.31622777,\n",
              "        0.31622777, 0.        , 0.31622777, 0.        , 0.        ,\n",
              "        0.31622777, 0.        , 0.        , 0.        , 0.        ,\n",
              "        0.        , 0.        , 0.        , 0.        , 0.        ,\n",
              "        0.        , 0.        , 0.        , 0.        , 0.        ,\n",
              "        0.        , 0.        , 0.        , 0.        , 0.        ,\n",
              "        0.        , 0.        , 0.        , 0.        , 0.        ,\n",
              "        0.        , 0.        , 0.        , 0.        , 0.        ,\n",
              "        0.        ]])"
            ]
          },
          "metadata": {},
          "execution_count": 70
        }
      ]
    },
    {
      "cell_type": "code",
      "source": [],
      "metadata": {
        "colab": {
          "base_uri": "https://localhost:8080/"
        },
        "id": "C0e8v3moVDfv",
        "outputId": "1e4ba10c-6da3-493c-b174-763439f8b6b7"
      },
      "execution_count": 71,
      "outputs": [
        {
          "output_type": "execute_result",
          "data": {
            "text/plain": [
              "<14x131 sparse matrix of type '<class 'numpy.float64'>'\n",
              "\twith 131 stored elements in Compressed Sparse Row format>"
            ]
          },
          "metadata": {},
          "execution_count": 71
        }
      ]
    },
    {
      "cell_type": "code",
      "source": [],
      "metadata": {
        "id": "iAHadUbpVHYh"
      },
      "execution_count": null,
      "outputs": []
    }
  ]
}