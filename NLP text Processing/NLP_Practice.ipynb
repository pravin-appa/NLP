{
  "nbformat": 4,
  "nbformat_minor": 0,
  "metadata": {
    "colab": {
      "provenance": []
    },
    "kernelspec": {
      "name": "python3",
      "display_name": "Python 3"
    },
    "language_info": {
      "name": "python"
    }
  },
  "cells": [
    {
      "cell_type": "code",
      "execution_count": 23,
      "metadata": {
        "id": "Z0Fak07UaoaG"
      },
      "outputs": [],
      "source": [
        "#importing nltk library\n",
        "import nltk\n",
        "import pandas as pd\n"
      ]
    },
    {
      "cell_type": "code",
      "source": [
        "file = open('279.txt', 'r')"
      ],
      "metadata": {
        "id": "4EZCxzlTdmc1"
      },
      "execution_count": 24,
      "outputs": []
    },
    {
      "cell_type": "code",
      "source": [
        "data = file.read()"
      ],
      "metadata": {
        "id": "vvnsJz9ydsPF"
      },
      "execution_count": 25,
      "outputs": []
    },
    {
      "cell_type": "code",
      "source": [
        "data\n"
      ],
      "metadata": {
        "colab": {
          "base_uri": "https://localhost:8080/",
          "height": 140
        },
        "id": "jkCycg2udxn0",
        "outputId": "fc17a0e1-4f95-401a-e369-c02f5aa98198"
      },
      "execution_count": 26,
      "outputs": [
        {
          "output_type": "execute_result",
          "data": {
            "text/plain": [
              "'### abstract ###\\nthis study investigates the amount and valence of information selected during single item evaluation\\none hundred and thirty-five participants evaluated a cell phone by reading hypothetical customers reports\\nsome participants were first asked to provide a preliminary rating based on a picture of the phone and some technical specifications\\nthe participants who were given the customer reports only after they made a preliminary rating exhibited valence bias in their selection of customers reports\\nin contrast  the participants that did not make an initial rating sought subsequent information in a more balanced  albeit still selective  manner\\nthe preliminary raters used the least amount of information in their final decision  resulting in faster decision times\\nthe study appears to support the notion that selective exposure is utilized in order to develop cognitive coherence\\n### introduction ###\\nin order to make accurate judgments it is critical that decision-makers limit any biased processing of evidence prior to the final choice\\nyet  evidence suggests that biased processing of information frequently occurs during judgment and decision-making  CITATION\\na number of studies have demonstrated that people use both selective exposure to information  CITATION   and selective processing  CITATION  to bias their judgments toward an early favorite  before the decision is made\\nCITATION  we focus on the first of these phenomena  selective exposure to information during evidence gathering\\n'"
            ],
            "application/vnd.google.colaboratory.intrinsic+json": {
              "type": "string"
            }
          },
          "metadata": {},
          "execution_count": 26
        }
      ]
    },
    {
      "cell_type": "code",
      "source": [
        "# import libraries for text processing\n",
        "\n",
        "from nltk.stem import PorterStemmer, WordNetLemmatizer\n",
        "from nltk.corpus import stopwords"
      ],
      "metadata": {
        "id": "cCYLRGbvej48"
      },
      "execution_count": 27,
      "outputs": []
    },
    {
      "cell_type": "code",
      "source": [
        "#tokenize into sentence\n",
        "nltk.download('punkt')\n",
        "\n",
        "sentences = nltk.sent_tokenize(data)"
      ],
      "metadata": {
        "colab": {
          "base_uri": "https://localhost:8080/"
        },
        "id": "nwlg5Uj8e_3H",
        "outputId": "7574a4ee-51ab-4ee0-f27f-21b6c8d898ef"
      },
      "execution_count": 30,
      "outputs": [
        {
          "output_type": "stream",
          "name": "stderr",
          "text": [
            "[nltk_data] Downloading package punkt to /root/nltk_data...\n",
            "[nltk_data]   Package punkt is already up-to-date!\n"
          ]
        }
      ]
    },
    {
      "cell_type": "code",
      "source": [
        "sentences"
      ],
      "metadata": {
        "colab": {
          "base_uri": "https://localhost:8080/"
        },
        "id": "5Mw2SruRfQoV",
        "outputId": "fc83a0c6-b5ad-44cf-db78-2fa016b4aad4"
      },
      "execution_count": 31,
      "outputs": [
        {
          "output_type": "execute_result",
          "data": {
            "text/plain": [
              "['### abstract ###\\nthis study investigates the amount and valence of information selected during single item evaluation\\none hundred and thirty-five participants evaluated a cell phone by reading hypothetical customers reports\\nsome participants were first asked to provide a preliminary rating based on a picture of the phone and some technical specifications\\nthe participants who were given the customer reports only after they made a preliminary rating exhibited valence bias in their selection of customers reports\\nin contrast  the participants that did not make an initial rating sought subsequent information in a more balanced  albeit still selective  manner\\nthe preliminary raters used the least amount of information in their final decision  resulting in faster decision times\\nthe study appears to support the notion that selective exposure is utilized in order to develop cognitive coherence\\n### introduction ###\\nin order to make accurate judgments it is critical that decision-makers limit any biased processing of evidence prior to the final choice\\nyet  evidence suggests that biased processing of information frequently occurs during judgment and decision-making  CITATION\\na number of studies have demonstrated that people use both selective exposure to information  CITATION   and selective processing  CITATION  to bias their judgments toward an early favorite  before the decision is made\\nCITATION  we focus on the first of these phenomena  selective exposure to information during evidence gathering']"
            ]
          },
          "metadata": {},
          "execution_count": 31
        }
      ]
    },
    {
      "cell_type": "code",
      "source": [
        "type(sentences), len(sentences)"
      ],
      "metadata": {
        "colab": {
          "base_uri": "https://localhost:8080/"
        },
        "id": "wAQZmt2PfSz_",
        "outputId": "2cee5861-9b92-4bdd-88fb-425b7b198d0e"
      },
      "execution_count": 32,
      "outputs": [
        {
          "output_type": "execute_result",
          "data": {
            "text/plain": [
              "(list, 1)"
            ]
          },
          "metadata": {},
          "execution_count": 32
        }
      ]
    },
    {
      "cell_type": "code",
      "source": [
        "#downloading necessary data for processing\n",
        "\n",
        "nltk.download('stopwords')\n",
        "nltk.download('wordnet')"
      ],
      "metadata": {
        "colab": {
          "base_uri": "https://localhost:8080/"
        },
        "id": "alOusLqsfWQ7",
        "outputId": "4a338f55-63d0-4bdb-80d0-83a3212ddcd7"
      },
      "execution_count": 33,
      "outputs": [
        {
          "output_type": "stream",
          "name": "stderr",
          "text": [
            "[nltk_data] Downloading package stopwords to /root/nltk_data...\n",
            "[nltk_data]   Unzipping corpora/stopwords.zip.\n",
            "[nltk_data] Downloading package wordnet to /root/nltk_data...\n"
          ]
        },
        {
          "output_type": "execute_result",
          "data": {
            "text/plain": [
              "True"
            ]
          },
          "metadata": {},
          "execution_count": 33
        }
      ]
    },
    {
      "cell_type": "code",
      "source": [
        "lemmatizer = WordNetLemmatizer()"
      ],
      "metadata": {
        "id": "cDqgRyWJg8SA"
      },
      "execution_count": 34,
      "outputs": []
    },
    {
      "cell_type": "code",
      "source": [
        "#regular expression\n",
        "\n",
        "import re\n",
        "corpus = []\n",
        "\n",
        "for i in range(len(sentences)):\n",
        "    # Remove non-letter characters\n",
        "    review = re.sub('[^a-zA-Z]', ' ', sentences[i])\n",
        "\n",
        "    # Convert to lower case\n",
        "    review = review.lower()\n",
        "\n",
        "    # Tokenize the sentence\n",
        "    review = review.split()\n",
        "\n",
        "    # Remove stopwords and lemmatize\n",
        "    review = [lemmatizer.lemmatize(word) for word in review if word not in set(stopwords.words('english'))]\n",
        "\n",
        "    # Join the words back into a single string\n",
        "    review = ' '.join(review)\n",
        "\n",
        "    # Add the processed review to the corpus\n",
        "    corpus.append(review)"
      ],
      "metadata": {
        "id": "cjdLUJ_Lfl5E"
      },
      "execution_count": 35,
      "outputs": []
    },
    {
      "cell_type": "code",
      "source": [
        "corpus"
      ],
      "metadata": {
        "colab": {
          "base_uri": "https://localhost:8080/"
        },
        "id": "LOVvut00hles",
        "outputId": "cd09c7ea-f4e9-4a58-8fea-5072d4cb3374"
      },
      "execution_count": 36,
      "outputs": [
        {
          "output_type": "execute_result",
          "data": {
            "text/plain": [
              "['abstract study investigates amount valence information selected single item evaluation one hundred thirty five participant evaluated cell phone reading hypothetical customer report participant first asked provide preliminary rating based picture phone technical specification participant given customer report made preliminary rating exhibited valence bias selection customer report contrast participant make initial rating sought subsequent information balanced albeit still selective manner preliminary raters used least amount information final decision resulting faster decision time study appears support notion selective exposure utilized order develop cognitive coherence introduction order make accurate judgment critical decision maker limit biased processing evidence prior final choice yet evidence suggests biased processing information frequently occurs judgment decision making citation number study demonstrated people use selective exposure information citation selective processing citation bias judgment toward early favorite decision made citation focus first phenomenon selective exposure information evidence gathering']"
            ]
          },
          "metadata": {},
          "execution_count": 36
        }
      ]
    },
    {
      "cell_type": "code",
      "source": [
        "#Bag of Words\n",
        "\n",
        "from sklearn.feature_extraction.text import CountVectorizer\n",
        "\n",
        "cv = CountVectorizer(binary=True)"
      ],
      "metadata": {
        "id": "Fgm5k9ZkiRK7"
      },
      "execution_count": 37,
      "outputs": []
    },
    {
      "cell_type": "code",
      "source": [
        "X = cv.fit_transform(corpus)"
      ],
      "metadata": {
        "id": "kMBd5VAmiqhu"
      },
      "execution_count": 38,
      "outputs": []
    },
    {
      "cell_type": "code",
      "source": [
        "cv.vocabulary_"
      ],
      "metadata": {
        "colab": {
          "base_uri": "https://localhost:8080/"
        },
        "id": "VrWe4W34ixkA",
        "outputId": "04dc1711-53c8-474f-8754-ebf127617e2f"
      },
      "execution_count": 39,
      "outputs": [
        {
          "output_type": "execute_result",
          "data": {
            "text/plain": [
              "{'abstract': 0,\n",
              " 'study': 77,\n",
              " 'investigates': 41,\n",
              " 'amount': 3,\n",
              " 'valence': 88,\n",
              " 'information': 38,\n",
              " 'selected': 70,\n",
              " 'single': 73,\n",
              " 'item': 42,\n",
              " 'evaluation': 23,\n",
              " 'one': 54,\n",
              " 'hundred': 36,\n",
              " 'thirty': 82,\n",
              " 'five': 31,\n",
              " 'participant': 56,\n",
              " 'evaluated': 22,\n",
              " 'cell': 10,\n",
              " 'phone': 59,\n",
              " 'reading': 67,\n",
              " 'hypothetical': 37,\n",
              " 'customer': 17,\n",
              " 'report': 68,\n",
              " 'first': 30,\n",
              " 'asked': 5,\n",
              " 'provide': 64,\n",
              " 'preliminary': 61,\n",
              " 'rating': 66,\n",
              " 'based': 7,\n",
              " 'picture': 60,\n",
              " 'technical': 81,\n",
              " 'specification': 75,\n",
              " 'given': 35,\n",
              " 'made': 46,\n",
              " 'exhibited': 25,\n",
              " 'bias': 8,\n",
              " 'selection': 71,\n",
              " 'contrast': 15,\n",
              " 'make': 47,\n",
              " 'initial': 39,\n",
              " 'sought': 74,\n",
              " 'subsequent': 78,\n",
              " 'balanced': 6,\n",
              " 'albeit': 2,\n",
              " 'still': 76,\n",
              " 'selective': 72,\n",
              " 'manner': 50,\n",
              " 'raters': 65,\n",
              " 'used': 86,\n",
              " 'least': 44,\n",
              " 'final': 29,\n",
              " 'decision': 18,\n",
              " 'resulting': 69,\n",
              " 'faster': 27,\n",
              " 'time': 83,\n",
              " 'appears': 4,\n",
              " 'support': 80,\n",
              " 'notion': 51,\n",
              " 'exposure': 26,\n",
              " 'utilized': 87,\n",
              " 'order': 55,\n",
              " 'develop': 20,\n",
              " 'cognitive': 13,\n",
              " 'coherence': 14,\n",
              " 'introduction': 40,\n",
              " 'accurate': 1,\n",
              " 'judgment': 43,\n",
              " 'critical': 16,\n",
              " 'maker': 48,\n",
              " 'limit': 45,\n",
              " 'biased': 9,\n",
              " 'processing': 63,\n",
              " 'evidence': 24,\n",
              " 'prior': 62,\n",
              " 'choice': 11,\n",
              " 'yet': 89,\n",
              " 'suggests': 79,\n",
              " 'frequently': 33,\n",
              " 'occurs': 53,\n",
              " 'making': 49,\n",
              " 'citation': 12,\n",
              " 'number': 52,\n",
              " 'demonstrated': 19,\n",
              " 'people': 57,\n",
              " 'use': 85,\n",
              " 'toward': 84,\n",
              " 'early': 21,\n",
              " 'favorite': 28,\n",
              " 'focus': 32,\n",
              " 'phenomenon': 58,\n",
              " 'gathering': 34}"
            ]
          },
          "metadata": {},
          "execution_count": 39
        }
      ]
    },
    {
      "cell_type": "code",
      "source": [
        "X[0].toarray()"
      ],
      "metadata": {
        "colab": {
          "base_uri": "https://localhost:8080/"
        },
        "id": "T6NpMkWKizsZ",
        "outputId": "88867799-a8da-4c12-ff73-7761f6841335"
      },
      "execution_count": 40,
      "outputs": [
        {
          "output_type": "execute_result",
          "data": {
            "text/plain": [
              "array([[1, 1, 1, 1, 1, 1, 1, 1, 1, 1, 1, 1, 1, 1, 1, 1, 1, 1, 1, 1, 1, 1,\n",
              "        1, 1, 1, 1, 1, 1, 1, 1, 1, 1, 1, 1, 1, 1, 1, 1, 1, 1, 1, 1, 1, 1,\n",
              "        1, 1, 1, 1, 1, 1, 1, 1, 1, 1, 1, 1, 1, 1, 1, 1, 1, 1, 1, 1, 1, 1,\n",
              "        1, 1, 1, 1, 1, 1, 1, 1, 1, 1, 1, 1, 1, 1, 1, 1, 1, 1, 1, 1, 1, 1,\n",
              "        1, 1]])"
            ]
          },
          "metadata": {},
          "execution_count": 40
        }
      ]
    },
    {
      "cell_type": "code",
      "source": [
        "corpus[0]"
      ],
      "metadata": {
        "colab": {
          "base_uri": "https://localhost:8080/",
          "height": 140
        },
        "id": "3cEkxki_i6DU",
        "outputId": "cbfb355d-324d-4e61-d7fe-1e4513093166"
      },
      "execution_count": 41,
      "outputs": [
        {
          "output_type": "execute_result",
          "data": {
            "text/plain": [
              "'abstract study investigates amount valence information selected single item evaluation one hundred thirty five participant evaluated cell phone reading hypothetical customer report participant first asked provide preliminary rating based picture phone technical specification participant given customer report made preliminary rating exhibited valence bias selection customer report contrast participant make initial rating sought subsequent information balanced albeit still selective manner preliminary raters used least amount information final decision resulting faster decision time study appears support notion selective exposure utilized order develop cognitive coherence introduction order make accurate judgment critical decision maker limit biased processing evidence prior final choice yet evidence suggests biased processing information frequently occurs judgment decision making citation number study demonstrated people use selective exposure information citation selective processing citation bias judgment toward early favorite decision made citation focus first phenomenon selective exposure information evidence gathering'"
            ],
            "application/vnd.google.colaboratory.intrinsic+json": {
              "type": "string"
            }
          },
          "metadata": {},
          "execution_count": 41
        }
      ]
    },
    {
      "cell_type": "code",
      "source": [
        "#TFIDF\n",
        "\n",
        "from sklearn.feature_extraction.text import TfidfVectorizer\n",
        "\n",
        "tf = TfidfVectorizer(ngram_range=(2,3))"
      ],
      "metadata": {
        "id": "7u8r-LFJi-ph"
      },
      "execution_count": 42,
      "outputs": []
    },
    {
      "cell_type": "code",
      "source": [
        "new = tf.fit_transform(corpus)"
      ],
      "metadata": {
        "id": "EZCDzW4XjM3-"
      },
      "execution_count": 43,
      "outputs": []
    },
    {
      "cell_type": "code",
      "source": [
        "new[0].toarray()"
      ],
      "metadata": {
        "colab": {
          "base_uri": "https://localhost:8080/"
        },
        "id": "M9lfM5b9jRtp",
        "outputId": "54dd9c89-1b84-45e7-9305-86b8677fc672"
      },
      "execution_count": 44,
      "outputs": [
        {
          "output_type": "execute_result",
          "data": {
            "text/plain": [
              "array([[0.05862104, 0.05862104, 0.05862104, 0.05862104, 0.05862104,\n",
              "        0.05862104, 0.05862104, 0.05862104, 0.05862104, 0.05862104,\n",
              "        0.05862104, 0.05862104, 0.05862104, 0.05862104, 0.05862104,\n",
              "        0.05862104, 0.05862104, 0.05862104, 0.05862104, 0.05862104,\n",
              "        0.05862104, 0.05862104, 0.11724208, 0.05862104, 0.05862104,\n",
              "        0.05862104, 0.05862104, 0.05862104, 0.05862104, 0.05862104,\n",
              "        0.05862104, 0.05862104, 0.05862104, 0.05862104, 0.05862104,\n",
              "        0.05862104, 0.05862104, 0.05862104, 0.05862104, 0.05862104,\n",
              "        0.05862104, 0.05862104, 0.05862104, 0.05862104, 0.05862104,\n",
              "        0.17586311, 0.05862104, 0.05862104, 0.05862104, 0.05862104,\n",
              "        0.05862104, 0.05862104, 0.05862104, 0.05862104, 0.05862104,\n",
              "        0.05862104, 0.05862104, 0.05862104, 0.05862104, 0.05862104,\n",
              "        0.05862104, 0.05862104, 0.05862104, 0.05862104, 0.05862104,\n",
              "        0.05862104, 0.05862104, 0.05862104, 0.05862104, 0.05862104,\n",
              "        0.05862104, 0.05862104, 0.05862104, 0.05862104, 0.05862104,\n",
              "        0.05862104, 0.11724208, 0.05862104, 0.05862104, 0.05862104,\n",
              "        0.05862104, 0.05862104, 0.05862104, 0.05862104, 0.05862104,\n",
              "        0.05862104, 0.05862104, 0.05862104, 0.05862104, 0.05862104,\n",
              "        0.05862104, 0.05862104, 0.05862104, 0.05862104, 0.05862104,\n",
              "        0.05862104, 0.05862104, 0.05862104, 0.05862104, 0.05862104,\n",
              "        0.05862104, 0.05862104, 0.05862104, 0.05862104, 0.05862104,\n",
              "        0.05862104, 0.05862104, 0.05862104, 0.05862104, 0.05862104,\n",
              "        0.05862104, 0.05862104, 0.05862104, 0.05862104, 0.05862104,\n",
              "        0.05862104, 0.05862104, 0.05862104, 0.05862104, 0.05862104,\n",
              "        0.05862104, 0.05862104, 0.05862104, 0.05862104, 0.05862104,\n",
              "        0.05862104, 0.05862104, 0.05862104, 0.05862104, 0.05862104,\n",
              "        0.05862104, 0.05862104, 0.05862104, 0.05862104, 0.05862104,\n",
              "        0.05862104, 0.05862104, 0.05862104, 0.05862104, 0.05862104,\n",
              "        0.05862104, 0.05862104, 0.05862104, 0.05862104, 0.05862104,\n",
              "        0.05862104, 0.05862104, 0.05862104, 0.05862104, 0.05862104,\n",
              "        0.05862104, 0.05862104, 0.05862104, 0.05862104, 0.05862104,\n",
              "        0.05862104, 0.05862104, 0.05862104, 0.05862104, 0.05862104,\n",
              "        0.05862104, 0.05862104, 0.05862104, 0.05862104, 0.05862104,\n",
              "        0.05862104, 0.05862104, 0.05862104, 0.05862104, 0.05862104,\n",
              "        0.05862104, 0.05862104, 0.05862104, 0.05862104, 0.05862104,\n",
              "        0.05862104, 0.05862104, 0.05862104, 0.05862104, 0.05862104,\n",
              "        0.05862104, 0.11724208, 0.05862104, 0.05862104, 0.05862104,\n",
              "        0.05862104, 0.05862104, 0.05862104, 0.05862104, 0.05862104,\n",
              "        0.05862104, 0.05862104, 0.05862104, 0.05862104, 0.05862104,\n",
              "        0.05862104, 0.05862104, 0.05862104, 0.05862104, 0.05862104,\n",
              "        0.05862104, 0.05862104, 0.05862104, 0.05862104, 0.05862104,\n",
              "        0.05862104, 0.05862104, 0.05862104, 0.05862104, 0.05862104,\n",
              "        0.05862104, 0.05862104, 0.05862104, 0.05862104, 0.05862104,\n",
              "        0.05862104, 0.17586311, 0.11724208, 0.05862104, 0.05862104,\n",
              "        0.05862104, 0.05862104, 0.05862104, 0.05862104, 0.05862104,\n",
              "        0.05862104, 0.05862104, 0.05862104, 0.05862104, 0.05862104,\n",
              "        0.05862104, 0.05862104, 0.05862104, 0.05862104, 0.05862104,\n",
              "        0.05862104, 0.05862104, 0.05862104, 0.05862104, 0.05862104,\n",
              "        0.05862104, 0.05862104, 0.05862104, 0.05862104, 0.05862104,\n",
              "        0.05862104, 0.05862104, 0.05862104, 0.05862104, 0.05862104,\n",
              "        0.05862104, 0.05862104, 0.05862104, 0.05862104, 0.05862104,\n",
              "        0.05862104, 0.05862104, 0.05862104, 0.05862104, 0.05862104,\n",
              "        0.05862104, 0.05862104, 0.05862104]])"
            ]
          },
          "metadata": {},
          "execution_count": 44
        }
      ]
    },
    {
      "cell_type": "code",
      "source": [],
      "metadata": {
        "id": "eUKeDgam9X5o"
      },
      "execution_count": null,
      "outputs": []
    }
  ]
}